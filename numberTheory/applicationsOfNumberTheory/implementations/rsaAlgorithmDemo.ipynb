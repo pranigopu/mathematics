{
 "cells": [
  {
   "cell_type": "markdown",
   "metadata": {},
   "source": [
    "**Implementing the Rivest-Shamir-Adleman algorithm in Python**"
   ]
  },
  {
   "cell_type": "markdown",
   "metadata": {},
   "source": [
    "**KEY GENERATION**"
   ]
  },
  {
   "cell_type": "markdown",
   "metadata": {},
   "source": [
    "Big primes were obtained from https://bigprimes.org. For this demonstration, we will be using relatively smaller primes, but note that in actual use cases, the primes will be much larger, so as to increase the computational complexity of the encryption and decryption process tremendously."
   ]
  },
  {
   "cell_type": "code",
   "execution_count": 1,
   "metadata": {},
   "outputs": [
    {
     "data": {
      "text/plain": [
       "794533"
      ]
     },
     "execution_count": 1,
     "metadata": {},
     "output_type": "execute_result"
    }
   ],
   "source": [
    "# Big primes\n",
    "p, q = 947, 839\n",
    "# n\n",
    "n = p*q\n",
    "n"
   ]
  },
  {
   "cell_type": "markdown",
   "metadata": {},
   "source": [
    "Helper functions..."
   ]
  },
  {
   "cell_type": "code",
   "execution_count": 2,
   "metadata": {},
   "outputs": [],
   "source": [
    "# GCD using Euclid's algorithm\n",
    "def gcd(a, b):\n",
    "    if b == 0: return a\n",
    "    return gcd(b, a%b)\n",
    "#====================================\n",
    "# LCM using the result lcd(a,b)*gcd(a,b)=ab\n",
    "def lcm(a, b):\n",
    "    return a*b//gcd(a,b)\n",
    "    # By default here, the return data type is implicitly converted to float.\n",
    "    # Hence, integer division is done, as seen above.\n",
    "    # Note that a*b/gcd(a,b) will always be an integer value anyways.\n",
    "#====================================\n",
    "# Getting random positive coprime less than x\n",
    "\"\"\"\n",
    "Instead of obtaining a random coprime of x,\n",
    "we can specifically obtain a random prime below x\n",
    "and check if it divides x.\n",
    "If not, we can return this prime.\n",
    "\n",
    "There are many efficient methods to obtain\n",
    "random primes for large numbers.\n",
    "However, since our demo involves smaller values,\n",
    "we can stick to basic functions.\n",
    "In our case, we will search coprimes in general,\n",
    "not primes alone.\n",
    "\"\"\"\n",
    "from random import randint\n",
    "def getRandomCoprime(x):\n",
    "    # Random starting integer (between 2 and [x/16])\n",
    "    i = randint(3, x//16 - 1)\n",
    "    while i < x:\n",
    "        if gcd(i, x) == 1: return i\n",
    "        i += 1\n",
    "    return x-1 # Last resort (we should never get to this point)\n",
    "#====================================\n",
    "# Finding modular multiplicative inverse\n",
    "\"\"\"\n",
    "Modular multiplicative inverse of 'a' modulo 'c' is given by 'b',\n",
    "where ab mod c = 1 => (a mod c)(a mod c) mod c = 1\n",
    "\n",
    "Note that modular multiplicative inverse of x modulo z\n",
    "always exists if x and z are coprime. Hence, since\n",
    "we will always 'a' such that it is coprime to 'c'\n",
    "(since we will pass e and n to get d), we don't put\n",
    "a terminating condition for the loop.\n",
    "\"\"\"\n",
    "def getModularMultiplicativeInverse(a, c):\n",
    "    k = 1\n",
    "    while True:\n",
    "        if (k*c + 1) % a == 0: return (k*c + 1) // a\n",
    "        \"\"\"\n",
    "        Here, we search for k*c + 1 such that 'a' divides k*c + 1.\n",
    "        If 'a' divides k*c + 1, this means there exists 'b' such that\n",
    "        ab = k*c + 1 => ab mod c = 1\n",
    "        => 'b' is the modular multiplicate inverse of 'a' modulo 'c'.\n",
    "        Hence, we return b = [(k*c + 1) / a]\n",
    "        \"\"\"\n",
    "        k += 1"
   ]
  },
  {
   "cell_type": "markdown",
   "metadata": {},
   "source": [
    "Note that in our case, we need not define Carmichael's totient function fully, since we can obtain the value for our numbers very easily using the **lcm** function. Now, obtaining $e$ and $d$ such that $(m^e)^d \\equiv m \\pmod n$..."
   ]
  },
  {
   "cell_type": "code",
   "execution_count": 3,
   "metadata": {},
   "outputs": [
    {
     "name": "stdout",
     "output_type": "stream",
     "text": [
      "lambda(n): 396374\n",
      "e: 20429\n",
      "d: 393289\n",
      "Encryption key: (794533, 20429)\n",
      "Decryption key: (794533, 393289)\n"
     ]
    }
   ],
   "source": [
    "# Carmichael's function value for n\n",
    "lambda_n = lcm(p-1, q-1)\n",
    "print(\"lambda(n):\", lambda_n)\n",
    "\n",
    "# Obtaining e and d\n",
    "e = getRandomCoprime(lambda_n)\n",
    "d = getModularMultiplicativeInverse(e, lambda_n)\n",
    "print(\"e:\", e)\n",
    "print(\"d:\", d)\n",
    "print(\"Encryption key:\", (n, e))\n",
    "print(\"Decryption key:\", (n, d))"
   ]
  },
  {
   "cell_type": "markdown",
   "metadata": {},
   "source": [
    "Note that encryption key of a certain entity (meant to be public) is given by $(n, e)$, and the decryption key of the same entity (meant to be private) is given by $(n, d)$."
   ]
  },
  {
   "cell_type": "markdown",
   "metadata": {},
   "source": [
    "**PLAIN TEXT PARTITIONS**"
   ]
  },
  {
   "cell_type": "markdown",
   "metadata": {},
   "source": [
    "The message that we intend to encrypt..."
   ]
  },
  {
   "cell_type": "code",
   "execution_count": 4,
   "metadata": {},
   "outputs": [
    {
     "data": {
      "text/plain": [
       "'Hello there!'"
      ]
     },
     "execution_count": 4,
     "metadata": {},
     "output_type": "execute_result"
    }
   ],
   "source": [
    "msg = \"Hello there!\"\n",
    "msg"
   ]
  },
  {
   "cell_type": "markdown",
   "metadata": {},
   "source": [
    "Now, we will partition the message so that when we convert the message to integers, the size of integers that we have to deal with will be less than $n$ i.e. the product of the two large primes assigned at the start. In our case, we will partition the message into strings of size 1, because that makes each partition's integer form smaller than $n$, as required."
   ]
  },
  {
   "cell_type": "code",
   "execution_count": 5,
   "metadata": {},
   "outputs": [
    {
     "data": {
      "text/plain": [
       "['H', 'e', 'l', 'l', 'o', ' ', 't', 'h', 'e', 'r', 'e', '!']"
      ]
     },
     "execution_count": 5,
     "metadata": {},
     "output_type": "execute_result"
    }
   ],
   "source": [
    "partionSize = 1 # Each partition will be 1 characters long or less\n",
    "partitions = [msg[i:i+partionSize] for i in range(0, len(msg), partionSize)]\n",
    "\n",
    "# Obtained partitions\n",
    "partitions"
   ]
  },
  {
   "cell_type": "markdown",
   "metadata": {},
   "source": [
    "Partition sizes would mostly be increased for\n",
    "\n",
    "- Larger $n$ values\n",
    "- Larger messages\n",
    "\n",
    "Larger paritions can have more complex encryption processes per partition, hence are generally much more difficult to decrypt, and hence increasing the security in data communication. Larger $n$ values would make the decryption key even harder to deduce, also increasing the securing in data communication."
   ]
  },
  {
   "cell_type": "markdown",
   "metadata": {},
   "source": [
    "**PLAIN TEXT CONVERSION TO REVERSIBLE INTEGERS**"
   ]
  },
  {
   "cell_type": "markdown",
   "metadata": {},
   "source": [
    "Reversible means we can again obtain the original string from the integer. We must convert the message partitions such that every partition's integer form must be be divisible to neither $p$ nor $q$ (the large primes assigned at the start)."
   ]
  },
  {
   "cell_type": "code",
   "execution_count": 6,
   "metadata": {},
   "outputs": [
    {
     "data": {
      "text/plain": [
       "[360, 505, 540, 540, 555, 160, 580, 520, 505, 570, 505, 165]"
      ]
     },
     "execution_count": 6,
     "metadata": {},
     "output_type": "execute_result"
    }
   ],
   "source": [
    "# Function to convert a message partition to an integer\n",
    "def messageToInteger(s):\n",
    "    return ord(s)*5\n",
    "\"\"\"\n",
    "NOTE:\n",
    "The conversion from a string to integer must be more complex\n",
    "than this in practical applications. This is for demo only\n",
    "(and because I didn't have time to learn a better method\n",
    "of string to integer conversion and reconversion).\n",
    "Complexity of string to integer conversion and reconversion\n",
    "will increase with increase in partition size.\n",
    "\"\"\"\n",
    "\n",
    "# List for containing message partitions converted to integers\n",
    "M = []\n",
    "\n",
    "# Iterating through message partitions\n",
    "for p in partitions:\n",
    "    # Iterating through characters in partitioned string\n",
    "    x = messageToInteger(p)\n",
    "    M.append(x)\n",
    "\n",
    "# Message partitions converted to integers\n",
    "M"
   ]
  },
  {
   "cell_type": "markdown",
   "metadata": {},
   "source": [
    "**ENCRYPTION (OBTAINING CIPHERTEXT FROM PLAINTEXT)**"
   ]
  },
  {
   "cell_type": "code",
   "execution_count": 7,
   "metadata": {},
   "outputs": [],
   "source": [
    "# Function to obtain the modulus for high powers\n",
    "# i.e. obtain a^k mod b, where k is a huge number.\n",
    "\"\"\"\n",
    "This function is faster by an enormous margin,\n",
    "compared to doing (a**k)%b. Furthermore, the\n",
    "value of the 'mod' variable is always limited,\n",
    "and does not keep increasing with k, making it\n",
    "both extremely time and space efficient.\n",
    "\"\"\"\n",
    "def crazyMod(a, k, b):\n",
    "    mod = 1\n",
    "    for i in range(0, k):\n",
    "        mod = (mod*(a%b)) % b\n",
    "    return mod"
   ]
  },
  {
   "cell_type": "code",
   "execution_count": 12,
   "metadata": {},
   "outputs": [
    {
     "name": "stdout",
     "output_type": "stream",
     "text": [
      "Ciphers for each message partition:\n"
     ]
    },
    {
     "data": {
      "text/plain": [
       "[585335,\n",
       " 717401,\n",
       " 658839,\n",
       " 658839,\n",
       " 425983,\n",
       " 392280,\n",
       " 644175,\n",
       " 280583,\n",
       " 717401,\n",
       " 614041,\n",
       " 717401,\n",
       " 581725]"
      ]
     },
     "execution_count": 12,
     "metadata": {},
     "output_type": "execute_result"
    }
   ],
   "source": [
    "C = [crazyMod(m, e, n) for m in M]\n",
    "print(\"Ciphertexts for each message partition:\")\n",
    "C"
   ]
  },
  {
   "cell_type": "markdown",
   "metadata": {},
   "source": [
    "**DECRYPTION (OBTAINING PLAINTEXT FROM CIPHERTEXT)**"
   ]
  },
  {
   "cell_type": "code",
   "execution_count": 13,
   "metadata": {},
   "outputs": [
    {
     "name": "stdout",
     "output_type": "stream",
     "text": [
      "Decrypted plaintexts obtained from ciphertexts:\n"
     ]
    },
    {
     "data": {
      "text/plain": [
       "[360, 505, 540, 540, 555, 160, 580, 520, 505, 570, 505, 165]"
      ]
     },
     "execution_count": 13,
     "metadata": {},
     "output_type": "execute_result"
    }
   ],
   "source": [
    "D = [crazyMod(c, d, n) for c in C]\n",
    "print(\"Decrypted plaintexts obtained from ciphertexts:\")\n",
    "D"
   ]
  },
  {
   "cell_type": "markdown",
   "metadata": {},
   "source": [
    "Comparing decrypted message with original message, for demo purposes only..."
   ]
  },
  {
   "cell_type": "code",
   "execution_count": 14,
   "metadata": {},
   "outputs": [
    {
     "data": {
      "text/plain": [
       "True"
      ]
     },
     "execution_count": 14,
     "metadata": {},
     "output_type": "execute_result"
    }
   ],
   "source": [
    "# This comparison cannot and need not happen in actual use cases.\n",
    "D == M"
   ]
  },
  {
   "cell_type": "markdown",
   "metadata": {},
   "source": [
    "Obtaining the actual message (in string format)..."
   ]
  },
  {
   "cell_type": "code",
   "execution_count": 15,
   "metadata": {},
   "outputs": [
    {
     "name": "stdout",
     "output_type": "stream",
     "text": [
      "['H', 'e', 'l', 'l', 'o', ' ', 't', 'h', 'e', 'r', 'e', '!']\n"
     ]
    },
    {
     "data": {
      "text/plain": [
       "'Hello there!'"
      ]
     },
     "execution_count": 15,
     "metadata": {},
     "output_type": "execute_result"
    }
   ],
   "source": [
    "def integerToMessage(i):\n",
    "    return chr(d // 5)\n",
    "\"\"\"\n",
    "NOTE:\n",
    "The reconversion from a integer to string must be more complex\n",
    "than this in practical applications, because of the complexity\n",
    "of conversion from string to integer. This is for demo only\n",
    "(and because I didn't have time to learn a better method of\n",
    "string to integer conversion and reconversion).\n",
    "Complexity of string to integer conversion and reconversion\n",
    "will increase with increase in partition size.\n",
    "\"\"\"\n",
    "\n",
    "received = []\n",
    "# Iterating through each integer\n",
    "for d in D:\n",
    "    received.append(integerToMessage(d))\n",
    "\n",
    "# Printing the received message partitions\n",
    "print(received)\n",
    "# Obtaining the full message\n",
    "''.join(received)"
   ]
  }
 ],
 "metadata": {
  "kernelspec": {
   "display_name": "Python 3",
   "language": "python",
   "name": "python3"
  },
  "language_info": {
   "codemirror_mode": {
    "name": "ipython",
    "version": 3
   },
   "file_extension": ".py",
   "mimetype": "text/x-python",
   "name": "python",
   "nbconvert_exporter": "python",
   "pygments_lexer": "ipython3",
   "version": "3.8.5"
  }
 },
 "nbformat": 4,
 "nbformat_minor": 4
}
