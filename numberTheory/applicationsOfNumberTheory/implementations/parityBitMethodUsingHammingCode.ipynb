{
 "cells": [
  {
   "cell_type": "markdown",
   "metadata": {},
   "source": [
    "**Basic functions for parity bit method...**"
   ]
  },
  {
   "cell_type": "code",
   "execution_count": 1,
   "metadata": {},
   "outputs": [],
   "source": [
    "# Functions to convert message to binary using binary conversion of ASCII values\n",
    "# Converting decimal to binary\n",
    "def decToBin(n):\n",
    "    b = ''\n",
    "    while n > 0:\n",
    "        b = str(n % 2) + b\n",
    "        n //= 2\n",
    "    return b\n",
    "# Converting string to binary\n",
    "def stringToBin(s):\n",
    "    b = ''\n",
    "    for c in s:\n",
    "        # Binary representation of character\n",
    "        k = decToBin(ord(c))\n",
    "        # Padding the binary representation to have 7 digits\n",
    "        for i in range(0, 7 - len(k)):\n",
    "            k = '0' + k\n",
    "        # Adding to binary message\n",
    "        b = b +  k\n",
    "    return b\n",
    "#====================================\n",
    "# Functions to check the actual message in character form\n",
    "# Converting binary to decimal\n",
    "def binToDec(b):\n",
    "    n, multiplier = 0, 1\n",
    "    for i in range(-1, -len(b) - 1, -1):\n",
    "        n += multiplier*int(b[i])\n",
    "        multiplier *= 2\n",
    "    return n\n",
    "# Converting binary to text string\n",
    "def binToString(b):\n",
    "    s = \"\"\n",
    "    for i in range(0, len(b) - 6, 7):\n",
    "        # Obtaining the character for the binary number\n",
    "        c = chr(binToDec(b[i:i+7]))\n",
    "        # Adding to string\n",
    "        s += c\n",
    "    return s\n",
    "#====================================\n",
    "# Function to simulate single bit error\n",
    "from random import randint\n",
    "def errorify(s):\n",
    "    # NOTE: We assume s is the message in binary form!\n",
    "    #------------------------\n",
    "    # Choosing a random bit to change\n",
    "    i = randint(0, len(s) - 1)\n",
    "    # Creating error\n",
    "    s = s[:i] + str((int(s[i]) + 1) % 2) + s[i+1:]\n",
    "    \"\"\"\n",
    "    str((int(s[i]) + 1) % 2) converts 1 to 0 and 0 to 1.\n",
    "    \"\"\"\n",
    "    return s"
   ]
  },
  {
   "cell_type": "markdown",
   "metadata": {},
   "source": [
    "Testing above functions..."
   ]
  },
  {
   "cell_type": "code",
   "execution_count": 3,
   "metadata": {},
   "outputs": [
    {
     "name": "stdout",
     "output_type": "stream",
     "text": [
      "1101\n",
      "10010001101001\n",
      "------------\n",
      "91\n",
      "Hi\n",
      "------------\n",
      "10110001101001\n",
      "Xi\n"
     ]
    }
   ],
   "source": [
    "print(decToBin(13))\n",
    "print(stringToBin(\"Hi\"))\n",
    "print(\"------------\")\n",
    "print(binToDec(\"1011011\"))\n",
    "print(binToString(stringToBin(\"Hi\")))\n",
    "print(\"------------\")\n",
    "x = errorify(stringToBin(\"Hi\"))\n",
    "print(x)\n",
    "print(binToString(x))"
   ]
  },
  {
   "cell_type": "markdown",
   "metadata": {},
   "source": [
    "**PARITY BIT METHOD USING HAMMING CODE** (even parity)"
   ]
  },
  {
   "cell_type": "markdown",
   "metadata": {},
   "source": [
    "**Functions specific for implementing Hamming code...**"
   ]
  },
  {
   "cell_type": "code",
   "execution_count": 4,
   "metadata": {},
   "outputs": [],
   "source": [
    "# Inserting redundant bits among data bits\n",
    "def insertRedundantBitPositions(s, printInfo=False):\n",
    "    \"\"\"\n",
    "    printInfo is an optional boolean argument.\n",
    "    It is only used to enable code output demonstration.\n",
    "    By default, it is false.\n",
    "    \"\"\"\n",
    "    \n",
    "    # Converting to binary form\n",
    "    s = stringToBin(s)\n",
    "    # Converting string to list (of 1's and 0's)\n",
    "    s = list(s)\n",
    "    #------------------------\n",
    "    # Inserting redundant bits at positions of power 2\n",
    "    # Inserting parity bits at positions of power 2\n",
    "    t = []\n",
    "    cur = 1 # Current redundant bit position\n",
    "    prev = 0 # Previous redundant bit position\n",
    "    redundantBitCount, i = 0, 0\n",
    "    \"\"\"\n",
    "    In Hamming code,\n",
    "    2^r >= m+r+1, where\n",
    "    m => number of data bits\n",
    "    r => number of redundant bits\n",
    "    \n",
    "    Hence, we need to keep adding\n",
    "    redundant bits until 2^r >= m+r+1.\n",
    "    Hence, while 2^r < m+r+1,\n",
    "    we need to keep adding redundant bits\n",
    "    \"\"\"\n",
    "    while 2**redundantBitCount < (len(s) + redundantBitCount + 1):\n",
    "        # Appending data bits between two redundant bit positions\n",
    "        \"\"\"\n",
    "        Note that we place data bits until the next\n",
    "        redundant bit. To do this, the data bit index,\n",
    "        i, must rise within the bounds of the current\n",
    "        and previous redundant bits.\n",
    "        \n",
    "        Since in this code the redundant are given as\n",
    "        positions (for calculation reasons) while an array\n",
    "        index is essentially position-1\n",
    "        (i.e. position 1 => index 0, etc.),\n",
    "        we subtract 1 from the difference cur-prev to\n",
    "        provide a limited increase for the data bit index.\n",
    "        \n",
    "        Note that cur-prev-1 provides the upper bound to\n",
    "        the increase in i from its current value.\n",
    "        Hence, the actual upper bound for i would be\n",
    "        i + cur-prev-1.\n",
    "        \"\"\"\n",
    "        upper = i + cur-prev-1\n",
    "        while i < upper:\n",
    "            try:\n",
    "                t.append(s[i])\n",
    "                i += 1\n",
    "            except:\n",
    "                \"\"\"\n",
    "                Exception occurs if all data bits\n",
    "                have been added to the list t.\n",
    "                \"\"\"\n",
    "                return (t, positions)\n",
    "        \n",
    "        # Appending redundant bit position\n",
    "        t.append(\" \")\n",
    "        \n",
    "        # Changing variables\n",
    "        redundantBitCount += 1\n",
    "        prev = cur\n",
    "        cur *= 2\n",
    "    #------------------------\n",
    "    # Appending the remaining data bits\n",
    "    while i < len(s):\n",
    "        t.append(s[i])\n",
    "        i += 1\n",
    "    #------------------------\n",
    "    # Printing data for reference\n",
    "    if printInfo:\n",
    "        print(\"Ordered list of data bits among redundant bits:\")\n",
    "        print(t)\n",
    "        print(\"Redundant bit count:\", redundantBitCount)\n",
    "    #------------------------\n",
    "    return (t, redundantBitCount)\n",
    "#=====================================\n",
    "# Inserting parity bits in the redundant bit positions\n",
    "# Inserting number of ones in the respective positions for each redundant bit\n",
    "def insertTotalOnes(s, printInfo=False):\n",
    "    \"\"\"\n",
    "    printInfo is an optional boolean argument.\n",
    "    It is only used to enable code output demonstration.\n",
    "    By default, it is false.\n",
    "    \"\"\"\n",
    "    \n",
    "    # Obtaining list of data bits and redundant bits\n",
    "    # as well as redundant bit count\n",
    "    s, redundantBitCount = insertRedundantBitPositions(s)\n",
    "    # Getting array of positions (position = index + 1)\n",
    "    positions = list(range(1, len(s)+1))\n",
    "    # Printing for demo purposes\n",
    "    if printInfo:\n",
    "        print(\"Positions in binary form (for reference):\")\n",
    "        print(list(map(decToBin, positions)))\n",
    "    #------------------------\n",
    "    cur = 1 # Current redundant bit position\n",
    "    for i in range(0, redundantBitCount):\n",
    "        # Totalling ones from every position\n",
    "        # (whose binary form has 1 in the ith place)\n",
    "        \"\"\"\n",
    "        ith place => ith position from the right\n",
    "        \"\"\"\n",
    "        totalOnes, nextRedundantBitPosition = 0, 1\n",
    "        for j in range(0, len(positions)):\n",
    "            # Skipping next redundant bit position's corresponding index\n",
    "            if j == nextRedundantBitPosition-1:\n",
    "                nextRedundantBitPosition *= 2\n",
    "                continue\n",
    "            # Checking if the least significant binary digit is 1\n",
    "            if positions[j]&1 == 1:\n",
    "                totalOnes += int(s[j])\n",
    "            # Shifting position number to the right\n",
    "            # (i.e. dividing by 2)\n",
    "            \"\"\"\n",
    "            This is to move to the next least\n",
    "            significant digit in the binary\n",
    "            representation of the position number.\n",
    "            \"\"\"\n",
    "            positions[j] = positions[j]>>1\n",
    "        s[cur-1] = totalOnes\n",
    "        cur *= 2\n",
    "    #------------------------\n",
    "    # Printing data and filled redundant bit list for reference\n",
    "    if printInfo:\n",
    "        print(\"Ordered list of data and filled redundant bits:\")\n",
    "        print(s)\n",
    "    #------------------------\n",
    "    return (s, redundantBitCount)\n",
    "\n",
    "# Obtaining the parity bits\n",
    "def insertParityBits(s, printInfo=False):\n",
    "    s, redundantBitCount = insertTotalOnes(s)\n",
    "    cur = 1 # Current redundant/parity bit position\n",
    "    for i in range(0, redundantBitCount):\n",
    "        s[cur-1] %= 2\n",
    "        # Converting to string for demo purposes\n",
    "        s[cur-1] = str(s[cur-1])\n",
    "        cur *= 2\n",
    "    #------------\n",
    "    # Printing data and parity bit list for reference\n",
    "    if printInfo:\n",
    "        print(\"Ordered list of data and parity bits:\")\n",
    "        print(s)\n",
    "    return s\n",
    "#=====================================\n",
    "# Functions to check the actual message in character form\n",
    "def getDataBits(s):\n",
    "    dataBits = []\n",
    "    nextRedundantBitPosition = 1\n",
    "    for j in range(0, len(s)):\n",
    "        # Skipping next redundant bit position's corresponding index\n",
    "        if j == nextRedundantBitPosition-1:\n",
    "            nextRedundantBitPosition *= 2\n",
    "            continue\n",
    "        # Checking if the least significant binary digit is 1\n",
    "        dataBits.append(s[j])\n",
    "    return dataBits\n",
    "#=====================================\n",
    "# Function to detect single bit errors using Hamming code parity bit method\n",
    "def detectError(s):\n",
    "    positions = list(range(1, len(s)+1))\n",
    "    cur = 1 # Current parity bit position\n",
    "    while cur <= len(s):\n",
    "        # Totalling ones from every position\n",
    "        # (whose binary form has 1 in the ith place)\n",
    "        \"\"\"\n",
    "        ith place => ith position from the right\n",
    "        \"\"\"\n",
    "        totalOnes = 0\n",
    "        for j in range(0, len(positions)):\n",
    "            totalOnes, nextRedundantBitPosition = 0, 1\n",
    "        for j in range(0, len(positions)):\n",
    "            # Skipping next redundant bit position's corresponding index\n",
    "            if j == nextRedundantBitPosition-1:\n",
    "                nextRedundantBitPosition *= 2\n",
    "                continue\n",
    "            # Checking if the least significant binary digit is 1\n",
    "            if positions[j]&1 == 1:\n",
    "                totalOnes += int(s[j])\n",
    "            # Shifting position number to the right\n",
    "            # (i.e. dividing by 2)\n",
    "            \"\"\"\n",
    "            This is to move to the next least\n",
    "            significant digit in the binary\n",
    "            representation of the position number.\n",
    "            \"\"\"\n",
    "            positions[j] = positions[j]>>1\n",
    "        \n",
    "        if (totalOnes % 2) != int(s[cur-1]):\n",
    "            print(\"Single bit error detected for parity bit\", cur)\n",
    "            return True\n",
    "        cur *= 2\n",
    "    print(\"No single bit error detected.\")\n",
    "    return False"
   ]
  },
  {
   "cell_type": "markdown",
   "metadata": {},
   "source": [
    "Testing to above functions..."
   ]
  },
  {
   "cell_type": "code",
   "execution_count": 5,
   "metadata": {},
   "outputs": [
    {
     "name": "stdout",
     "output_type": "stream",
     "text": [
      "1001000\n",
      "Ordered list of data bits among redundant bits:\n",
      "[' ', ' ', '1', ' ', '0', '0', '1', ' ', '0', '0', '0']\n",
      "Redundant bit count: 4\n",
      "------------\n",
      "Positions in binary form (for reference):\n",
      "['1', '10', '11', '100', '101', '110', '111', '1000', '1001', '1010', '1011']\n",
      "Ordered list of data and filled redundant bits:\n",
      "[2, 2, '1', 1, '0', '0', '1', 0, '0', '0', '0']\n",
      "------------\n",
      "Ordered list of data and parity bits:\n",
      "['0', '0', '1', '1', '0', '0', '1', '0', '0', '0', '0']\n",
      "------------\n",
      "Getting back the data bits:\n"
     ]
    },
    {
     "data": {
      "text/plain": [
       "['1', '0', '0', '1', '0', '0', '0']"
      ]
     },
     "execution_count": 5,
     "metadata": {},
     "output_type": "execute_result"
    }
   ],
   "source": [
    "print(stringToBin(\"H\"))\n",
    "x = insertRedundantBitPositions(\"H\", True)\n",
    "print(\"------------\")\n",
    "x = insertTotalOnes(\"H\", True)\n",
    "print(\"------------\")\n",
    "x = insertParityBits(\"H\", True)\n",
    "print(\"------------\")\n",
    "print(\"Getting back the data bits:\")\n",
    "getDataBits(x)"
   ]
  },
  {
   "cell_type": "markdown",
   "metadata": {},
   "source": [
    "**Application...**"
   ]
  },
  {
   "cell_type": "markdown",
   "metadata": {},
   "source": [
    "Message sent with parity bits using Hamming code..."
   ]
  },
  {
   "cell_type": "code",
   "execution_count": 6,
   "metadata": {},
   "outputs": [
    {
     "name": "stdout",
     "output_type": "stream",
     "text": [
      "Intended message in plaintext form\n",
      "Hola, senor\n",
      "Intended message in binary form:\n",
      "001100110001101111111011001100010101011000100000111001111001011010111011011111110010\n"
     ]
    }
   ],
   "source": [
    "txt = \"Hola, senor\"\n",
    "msg = insertParityBits(txt)\n",
    "print(\"Intended message in plaintext form\")\n",
    "print(binToString(''.join(getDataBits(msg))))\n",
    "print(\"Intended message in binary form:\")\n",
    "print(''.join(msg))"
   ]
  },
  {
   "cell_type": "markdown",
   "metadata": {},
   "source": [
    "Simulating single bit error..."
   ]
  },
  {
   "cell_type": "code",
   "execution_count": 10,
   "metadata": {},
   "outputs": [
    {
     "name": "stdout",
     "output_type": "stream",
     "text": [
      "Corrupted message in plaintext form\n",
      "Iola, senor\n",
      "Corrupted message in binary form:\n",
      "001100110011101111111011001100010101011000100000111001111001011010111011011111110010\n"
     ]
    }
   ],
   "source": [
    "corrupted = list(errorify(''.join(msg)))\n",
    "print(\"Corrupted message in plaintext form\")\n",
    "print(binToString(''.join(getDataBits(corrupted))))\n",
    "print(\"Corrupted message in binary form:\")\n",
    "print(''.join(corrupted))"
   ]
  },
  {
   "cell_type": "markdown",
   "metadata": {},
   "source": [
    "_Note that it may happen that no data bits were corrupted, but instead, one parity bit was changed. In this case, however, it was a data bit that was corrupted._"
   ]
  },
  {
   "cell_type": "markdown",
   "metadata": {},
   "source": [
    "Message received..."
   ]
  },
  {
   "cell_type": "code",
   "execution_count": 11,
   "metadata": {},
   "outputs": [
    {
     "name": "stdout",
     "output_type": "stream",
     "text": [
      "Single bit error detected for parity bit 1\n"
     ]
    },
    {
     "data": {
      "text/plain": [
       "True"
      ]
     },
     "execution_count": 11,
     "metadata": {},
     "output_type": "execute_result"
    }
   ],
   "source": [
    "detectError(corrupted)"
   ]
  },
  {
   "cell_type": "markdown",
   "metadata": {},
   "source": [
    "To verify if the detection works, we will test it with the uncorrupted message..."
   ]
  },
  {
   "cell_type": "code",
   "execution_count": 12,
   "metadata": {},
   "outputs": [
    {
     "name": "stdout",
     "output_type": "stream",
     "text": [
      "No single bit error detected.\n"
     ]
    },
    {
     "data": {
      "text/plain": [
       "False"
      ]
     },
     "execution_count": 12,
     "metadata": {},
     "output_type": "execute_result"
    }
   ],
   "source": [
    "detectError(msg)"
   ]
  }
 ],
 "metadata": {
  "kernelspec": {
   "display_name": "Python 3",
   "language": "python",
   "name": "python3"
  },
  "language_info": {
   "codemirror_mode": {
    "name": "ipython",
    "version": 3
   },
   "file_extension": ".py",
   "mimetype": "text/x-python",
   "name": "python",
   "nbconvert_exporter": "python",
   "pygments_lexer": "ipython3",
   "version": "3.8.5"
  }
 },
 "nbformat": 4,
 "nbformat_minor": 4
}
