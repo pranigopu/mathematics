{
 "cells": [
  {
   "cell_type": "markdown",
   "metadata": {},
   "source": [
    "**Basic functions for parity bit method...**"
   ]
  },
  {
   "cell_type": "code",
   "execution_count": 723,
   "metadata": {},
   "outputs": [],
   "source": [
    "# Functions to convert message to binary using binary conversion of ASCII values\n",
    "# Converting decimal to binary\n",
    "def decToBin(n):\n",
    "    b = ''\n",
    "    while n > 0:\n",
    "        b = str(n % 2) + b\n",
    "        n //= 2\n",
    "    return b\n",
    "# Converting string to binary\n",
    "def stringToBin(s):\n",
    "    b = ''\n",
    "    for c in s:\n",
    "        # Binary representation of character\n",
    "        k = decToBin(ord(c))\n",
    "        # Padding the binary representation to have 7 digits\n",
    "        for i in range(0, 7 - len(k)):\n",
    "            k = '0' + k\n",
    "        # Adding to binary message\n",
    "        b +=  k\n",
    "    return b\n",
    "#====================================\n",
    "# Functions to check the actual message in character form\n",
    "# Converting binary to decimal\n",
    "def binToDec(b):\n",
    "    n, multiplier = 0, 1\n",
    "    for i in range(-1, -len(b) - 1, -1):\n",
    "        n += multiplier*int(b[i])\n",
    "        multiplier *= 2\n",
    "    return n\n",
    "# Converting binary to text string\n",
    "def binToString(b):\n",
    "    s = \"\"\n",
    "    for i in range(0, len(b) - 6, 7):\n",
    "        # Obtaining the character for the binary number\n",
    "        c = chr(binToDec(b[i:i+7]))\n",
    "        # Adding to string\n",
    "        s += c\n",
    "    return s\n",
    "#====================================\n",
    "# Function to get parity bit for a given message\n",
    "def sumOnes(s):\n",
    "    # NOTE: We assume s is the message in binary form!\n",
    "    #------------------------\n",
    "    totalOnes = 0\n",
    "    for c in s:\n",
    "        totalOnes += int(c)\n",
    "    return totalOnes\n",
    "def getParityBit(s):\n",
    "    s = stringToBin(s)\n",
    "    totalOnes = sumOnes(s)\n",
    "    parityBit = totalOnes % 2\n",
    "    return parityBit\n",
    "#====================================\n",
    "# Function to simulate single bit error\n",
    "from random import randint\n",
    "def errorify(s):\n",
    "    # NOTE: We assume s is the message in binary form!\n",
    "    #------------------------\n",
    "    # Choosing a random bit to change\n",
    "    i = randint(0, len(s) - 1)\n",
    "    # Creating error\n",
    "    s = s[:i] + str((int(s[i]) + 1) % 2) + s[i+1:]\n",
    "    \"\"\"\n",
    "    str((int(s[i]) + 1) % 2) converts 1 to 0 and 0 to 1.\n",
    "    \"\"\"\n",
    "    return s"
   ]
  },
  {
   "cell_type": "markdown",
   "metadata": {},
   "source": [
    "Testing above functions..."
   ]
  },
  {
   "cell_type": "code",
   "execution_count": 724,
   "metadata": {},
   "outputs": [
    {
     "name": "stdout",
     "output_type": "stream",
     "text": [
      "1101\n",
      "10010001101001\n",
      "------------\n",
      "91\n",
      "Hi\n",
      "------------\n",
      "6\n",
      "0\n",
      "------------\n",
      "10010001001001\n",
      "HI\n"
     ]
    }
   ],
   "source": [
    "print(decToBin(13))\n",
    "print(stringToBin(\"Hi\"))\n",
    "print(\"------------\")\n",
    "print(binToDec(\"1011011\"))\n",
    "print(binToString(stringToBin(\"Hi\")))\n",
    "print(\"------------\")\n",
    "print(sumOnes(stringToBin(\"Hi\")))\n",
    "print(getParityBit(\"Hi\"))\n",
    "print(\"------------\")\n",
    "x = errorify(stringToBin(\"Hi\"))\n",
    "print(x)\n",
    "print(binToString(x))"
   ]
  },
  {
   "cell_type": "markdown",
   "metadata": {},
   "source": [
    "**BASIC PARITY BIT METHOD** (even parity)"
   ]
  },
  {
   "cell_type": "markdown",
   "metadata": {},
   "source": [
    "**Application...**"
   ]
  },
  {
   "cell_type": "markdown",
   "metadata": {},
   "source": [
    "Message sent with parity..."
   ]
  },
  {
   "cell_type": "code",
   "execution_count": 725,
   "metadata": {},
   "outputs": [
    {
     "name": "stdout",
     "output_type": "stream",
     "text": [
      "Intended message in plaintext form:\n",
      "Hola, senor\n",
      "Intended message in binary form:\n",
      "100100011011111101100110000101011000100000111001111001011101110110111111100101\n",
      "\n"
     ]
    }
   ],
   "source": [
    "# Message with parity bit\n",
    "txt = \"Hola, senor\"\n",
    "# Appending parity bit to binary form of the message\n",
    "msg = stringToBin(txt) + str(getParityBit(txt))\n",
    "print(\"Intended message in plaintext form:\")\n",
    "print(binToString(msg[:-1]))\n",
    "print(\"Intended message in binary form:\")\n",
    "print(msg)\n",
    "print()"
   ]
  },
  {
   "cell_type": "markdown",
   "metadata": {},
   "source": [
    "Simulating single bit error..."
   ]
  },
  {
   "cell_type": "code",
   "execution_count": 726,
   "metadata": {},
   "outputs": [
    {
     "name": "stdout",
     "output_type": "stream",
     "text": [
      "Corrupted message in plaintext form:\n",
      "Hola, senoz\n",
      "Corrupted message in binary form:\n",
      "100100011011111101100110000101011000100000111001111001011101110110111111110101\n"
     ]
    }
   ],
   "source": [
    "corrupted = errorify(msg)\n",
    "print(\"Corrupted message in plaintext form:\")\n",
    "print(binToString(corrupted[:-1]))\n",
    "print(\"Corrupted message in binary form:\")\n",
    "print(corrupted)"
   ]
  },
  {
   "cell_type": "markdown",
   "metadata": {},
   "source": [
    "Message received..."
   ]
  },
  {
   "cell_type": "code",
   "execution_count": 727,
   "metadata": {},
   "outputs": [
    {
     "name": "stdout",
     "output_type": "stream",
     "text": [
      "Single bit error detected.\n"
     ]
    }
   ],
   "source": [
    "# Checking for error\n",
    "if (sumOnes(corrupted[:-1]) % 2) == int(corrupted[-1]):\n",
    "    print(\"No single bit error detected.\")\n",
    "else:\n",
    "    print(\"Single bit error detected.\")"
   ]
  },
  {
   "cell_type": "markdown",
   "metadata": {},
   "source": [
    "To verify if the detection works, we will test it with the uncorrupted message..."
   ]
  },
  {
   "cell_type": "code",
   "execution_count": 728,
   "metadata": {},
   "outputs": [
    {
     "name": "stdout",
     "output_type": "stream",
     "text": [
      "No single bit error detected.\n"
     ]
    }
   ],
   "source": [
    "# Checking for error\n",
    "if (sumOnes(msg[:-1]) % 2) == int(msg[-1]):\n",
    "    print(\"No single bit error detected.\")\n",
    "else:\n",
    "    print(\"Single bit error detected.\")"
   ]
  }
 ],
 "metadata": {
  "kernelspec": {
   "display_name": "Python 3",
   "language": "python",
   "name": "python3"
  },
  "language_info": {
   "codemirror_mode": {
    "name": "ipython",
    "version": 3
   },
   "file_extension": ".py",
   "mimetype": "text/x-python",
   "name": "python",
   "nbconvert_exporter": "python",
   "pygments_lexer": "ipython3",
   "version": "3.8.5"
  }
 },
 "nbformat": 4,
 "nbformat_minor": 4
}
