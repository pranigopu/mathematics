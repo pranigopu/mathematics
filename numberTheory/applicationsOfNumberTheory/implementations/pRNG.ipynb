{
 "cells": [
  {
   "cell_type": "markdown",
   "metadata": {},
   "source": [
    "**Demonstrating some basic pseudorandom generators.**"
   ]
  },
  {
   "cell_type": "markdown",
   "metadata": {},
   "source": [
    "**MIDDLE SQUARES METHOD**"
   ]
  },
  {
   "cell_type": "markdown",
   "metadata": {},
   "source": [
    "This pRNG involves the following steps:\n",
    "\n",
    "1. Let $x$ = seed, where seed is some value of $n$ digits\n",
    "2. Assign $x$ = middle $n$ digits of $c+x^2$, where $c$ is some constant\n",
    "3. Save x to the list of generated pseudorandom numbers $R$\n",
    "4. Go to step 2"
   ]
  },
  {
   "cell_type": "code",
   "execution_count": 77,
   "metadata": {},
   "outputs": [],
   "source": [
    "# Simple generator\n",
    "def middleSquares(seed, upper, size):\n",
    "    R = [seed] # List of generated numbers\n",
    "    size //= 2\n",
    "    \"\"\"\n",
    "    'size' is the size of the central i.e. middle substring\n",
    "    that we extract from the numerical strings of our generated numbers.\n",
    "    Doing size = size // 2 above helps define the middle index interval\n",
    "    from which we extract the middle of the string.\n",
    "    For example, if size is given as 5, size = size // 2 => size is 2.\n",
    "    Hence, our middle index interval becomes [mid-2, mid+2], where\n",
    "    mid is the middle index of the string.\n",
    "    \"\"\"\n",
    "    \n",
    "    x, i = seed, 1\n",
    "    while i < upper:\n",
    "        x = str(123 + x**2) # Getting the numerical string\n",
    "        mid = len(x) // 2 # Getting the middle index of the numerical string\n",
    "        x = int(x[mid-size:mid+size+1]) # Extracting the middle of the string\n",
    "        \"\"\"\n",
    "        The middle index interval from which we extract is\n",
    "        [mid-size, mid+size])\n",
    "        \"\"\"\n",
    "        \n",
    "        R.append(x) # Appending newly generated number in the list\n",
    "        i += 1\n",
    "    return R\n",
    "\n",
    "# Generator that stops when sequence starts repeating (no given upper bound)\n",
    "def middleSquaresDistinct(seed, size):\n",
    "    R = {seed: 0} # Dictionary of generated (key is generated number, value is index)\n",
    "    size //= 2\n",
    "    x, i = seed, 1\n",
    "    while True:\n",
    "        x = str(123 + x**2)\n",
    "        mid = len(x) // 2\n",
    "        x = int(x[mid-size:mid+size+1])\n",
    "        try:\n",
    "            x = R[x]\n",
    "            \"\"\"\n",
    "            If we can obtain a value for the key 'x'\n",
    "            i.e. the currently generated pseudorandom\n",
    "            number, that means the number already exists\n",
    "            in the dictionary as a key, hence\n",
    "            no ValueError exception will be thrown.\n",
    "            Hence, we end the function and return the dictionary.\n",
    "            \"\"\"\n",
    "            \n",
    "            return {\"distinctValues\": list(R.keys()),\n",
    "                    \"repeatStart\": x,\n",
    "                    \"period\": i - x}\n",
    "        except: R[x] = i\n",
    "        i += 1"
   ]
  },
  {
   "cell_type": "markdown",
   "metadata": {},
   "source": [
    "Example and comparison between the above two functions..."
   ]
  },
  {
   "cell_type": "code",
   "execution_count": 83,
   "metadata": {},
   "outputs": [
    {
     "name": "stdout",
     "output_type": "stream",
     "text": [
      "SIMPLE MIDDLE SQUARES METHOD RESULTS\n",
      "\n",
      "[52, 827, 405, 414, 151, 292, 538, 956, 405, 414, 151, 292, 538]\n",
      "------------\n",
      "MIDDLE SQUARES METHOD RESULTS WITH DISTINCTNESS\n",
      "\n",
      "distinctValues\n",
      "[52, 827, 405, 414, 151, 292, 538, 956]\n",
      "\n",
      "repeatStart\n",
      "2\n",
      "\n",
      "period\n",
      "6\n",
      "\n"
     ]
    }
   ],
   "source": [
    "A = middleSquares(52, 13, 3)\n",
    "B = middleSquaresDistinct(52, 3)\n",
    "\n",
    "print(\"SIMPLE MIDDLE SQUARES METHOD RESULTS\\n\")\n",
    "print(A)\n",
    "print(\"------------\")\n",
    "print(\"MIDDLE SQUARES METHOD RESULTS WITH DISTINCTNESS\\n\")\n",
    "for i in B.items():\n",
    "    print(i[0])\n",
    "    print(i[1])\n",
    "    print()"
   ]
  },
  {
   "cell_type": "markdown",
   "metadata": {},
   "source": [
    "Hence, we see that repeating sequence starts from the 7th index i.e. 8th number in the pseudorandom sequence, and the repeating sequence has 8 distinct numbers (52, 827, 405, 414, 151, 292, 538, 956). Below, we can observe the number of distinct pseudorandom numbers generated (before repeating sequence) for different seeds and middle interval sizes..."
   ]
  },
  {
   "cell_type": "code",
   "execution_count": 79,
   "metadata": {},
   "outputs": [
    {
     "name": "stdout",
     "output_type": "stream",
     "text": [
      "\n",
      "Example 1\n",
      "Sample values: [3135, 283, 21, 564]\n",
      "Repeat start: 32\n",
      "Period: 6\n",
      "\n",
      "Example 2\n",
      "Sample values: [31316, 8069197, 1940224, 4469170]\n",
      "Repeat start: 81\n",
      "Period: 660\n",
      "\n",
      "Example 3\n",
      "Sample values: [141241, 9490202, 3934000, 6356000]\n",
      "Repeat start: 1080\n",
      "Period: 1871\n",
      "\n",
      "Example 4\n",
      "Sample values: [31222342, 3463996, 9268288, 1162451]\n",
      "Repeat start: 569\n",
      "Period: 1871\n",
      "\n",
      "Example 5\n",
      "Sample values: [211411201, 94695908262, 50415651198, 78857183988]\n",
      "Repeat start: 83909\n",
      "Period: 2\n"
     ]
    }
   ],
   "source": [
    "exampleSeeds = [3135, 31316, 141241, 31222342, 211411201]\n",
    "exampleMidSizes = [3, 6, 6, 7, 10]\n",
    "\n",
    "# Examples (in a loop)\n",
    "for i in range(0, len(exampleSeeds)):\n",
    "    R = middleSquaresDistinct(exampleSeeds[i], exampleMidSizes[i])\n",
    "    print(\"\\nExample\", i+1)\n",
    "    print(\"Sample values:\", R['distinctValues'][0:4])\n",
    "    print(\"Repeat start:\", R['repeatStart'])\n",
    "    print(\"Period:\", R['period'])"
   ]
  },
  {
   "cell_type": "markdown",
   "metadata": {},
   "source": [
    "**LINEAR CONGRUENTIAL GENERATOR**"
   ]
  },
  {
   "cell_type": "markdown",
   "metadata": {},
   "source": [
    "The terms of this pseudorandom sequence are generated using $x_{n+1}=(ax_n+b)\\mod M$, where $x_{n+1}$ is the next term, $x_n$ is th previous term, $a$, $b$ and $M$ are constants. Note that $x_0$ is the seed of this pseudorandom sequence."
   ]
  },
  {
   "cell_type": "code",
   "execution_count": 81,
   "metadata": {},
   "outputs": [],
   "source": [
    "def lcg(seed, a, b, M):\n",
    "    R = {seed: 0}\n",
    "    x, i = seed, 1\n",
    "    while True:\n",
    "        x = (a*x+b) % M\n",
    "        try:\n",
    "            x = R[x]\n",
    "            return {\"distinctValues\": list(R.keys()),\n",
    "                    \"repeatStart\": x,\n",
    "                    \"period\": i - x}\n",
    "        except: R[x] = i\n",
    "        i += 1"
   ]
  },
  {
   "cell_type": "markdown",
   "metadata": {},
   "source": [
    "Below, we can observe the number of distinct pseudorandom numbers generated (before repeating sequence) for different seeds and middle interval sizes..."
   ]
  },
  {
   "cell_type": "code",
   "execution_count": 82,
   "metadata": {},
   "outputs": [
    {
     "name": "stdout",
     "output_type": "stream",
     "text": [
      "\n",
      "Example 1\n",
      "Sample values: [31, 124, 403, 4]\n",
      "Repeat start: 0\n",
      "Period: 34\n",
      "\n",
      "Example 2\n",
      "Sample values: [231, 35, 7, 3]\n",
      "Repeat start: 1\n",
      "Period: 40\n",
      "\n",
      "Example 3\n",
      "Sample values: [34, 11, 17]\n",
      "Repeat start: 2\n",
      "Period: 1\n",
      "\n",
      "Example 4\n",
      "Sample values: [14, 8, 63, 60]\n",
      "Repeat start: 0\n",
      "Period: 96\n",
      "\n",
      "Example 5\n",
      "Sample values: [52, 17, 11, 37]\n",
      "Repeat start: 1\n",
      "Period: 21\n"
     ]
    }
   ],
   "source": [
    "exampleSeeds = [31, 231, 34, 14, 52]\n",
    "a = [3, 6, 6, 7, 10]\n",
    "b = [31, 2, 41, 7, 13]\n",
    "M = [412, 41, 18, 97, 43]\n",
    "\n",
    "# Examples (in a loop)\n",
    "for i in range(0, len(exampleSeeds)):\n",
    "    R = lcg(exampleSeeds[i], a[i], b[i], M[i])\n",
    "    print(\"\\nExample\", i+1)\n",
    "    print(\"Sample values:\", R['distinctValues'][0:4])\n",
    "    print(\"Repeat start:\", R['repeatStart'])\n",
    "    print(\"Period:\", R['period'])"
   ]
  },
  {
   "cell_type": "markdown",
   "metadata": {},
   "source": [
    "Some other similar modulus-based pRNGs are defined as follows...\n",
    "\n",
    "- $x_{n+1}=x^k\\mod M$, where $k$ and $M$ are constant positive integers\n",
    "- $x_{n+1}=k^{x_n}\\mod M$, where $k$ and $M$ are constant positive integers"
   ]
  }
 ],
 "metadata": {
  "kernelspec": {
   "display_name": "Python 3",
   "language": "python",
   "name": "python3"
  },
  "language_info": {
   "codemirror_mode": {
    "name": "ipython",
    "version": 3
   },
   "file_extension": ".py",
   "mimetype": "text/x-python",
   "name": "python",
   "nbconvert_exporter": "python",
   "pygments_lexer": "ipython3",
   "version": "3.8.5"
  }
 },
 "nbformat": 4,
 "nbformat_minor": 4
}
