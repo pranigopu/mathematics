{
 "cells": [
  {
   "cell_type": "markdown",
   "metadata": {},
   "source": [
    "**Code to demonstrate Caesar cipher encoding**"
   ]
  },
  {
   "cell_type": "code",
   "execution_count": 1,
   "metadata": {},
   "outputs": [],
   "source": [
    "def caesarCipher(text, offset):\n",
    "    k = offset % 26 # Reducing offset to functionally equivalent offset, if necessary.\n",
    "    cipher = ''\n",
    "    for c in text:\n",
    "        if c.isupper(): a, z = 'A','Z'\n",
    "        elif c.islower(): a, z = 'a', 'z'\n",
    "        else: # If non-alphabetic, add to cipher as is, and skip\n",
    "            cipher = cipher + c\n",
    "            continue\n",
    "        \n",
    "        if ord(c)+k > ord(z):\n",
    "             cipher += chr((ord(c)+k) - ord(z) + ord(a) - 1)\n",
    "        else:\n",
    "            cipher += chr((ord(c)+k))\n",
    "    \n",
    "    # Return cipher\n",
    "    return cipher"
   ]
  },
  {
   "cell_type": "code",
   "execution_count": 2,
   "metadata": {},
   "outputs": [
    {
     "data": {
      "text/plain": [
       "'Khoor, Pu. Cheud erb'"
      ]
     },
     "execution_count": 2,
     "metadata": {},
     "output_type": "execute_result"
    }
   ],
   "source": [
    "caesarCipher(\"Hello, Mr. Zebra boy\", 3)"
   ]
  },
{
   "cell_type": "markdown",
   "metadata": {},
   "source": [
    "**Code to demonstrate Caesar cipher decoding**"
   ]
  },
  {
   "cell_type": "code",
   "execution_count": 59,
   "metadata": {},
   "outputs": [],
   "source": [
    "def caesarCipherDecoder(text, offset):\n",
    "    k = offset % 26 # Reducing offset to functionally equivalent offset, if necessary.\n",
    "    plain = ''\n",
    "    for d in text:\n",
    "        if d.isupper(): a, z = 'A','Z'\n",
    "        elif d.islower(): a, z = 'a', 'z'\n",
    "        else: # If non-alphabetic, add to cipher as is, and skip\n",
    "            plain = plain + d\n",
    "            continue\n",
    "        \n",
    "        if ord(a) <= (ord(d)-k):\n",
    "             plain += chr((ord(d)-k))\n",
    "        else:\n",
    "            plain += chr(ord(z) - (ord(a) - (ord(d)-k)) + 1)\n",
    "    \n",
    "    # Return cipher\n",
    "    return plain"
   ]
  },
  {
   "cell_type": "code",
   "execution_count": 60,
   "metadata": {},
   "outputs": [
    {
     "data": {
      "text/plain": [
       "'Hello, Mr. Zebra boy'"
      ]
     },
     "execution_count": 60,
     "metadata": {},
     "output_type": "execute_result"
    }
   ],
   "source": [
    "caesarCipherDecoder('Khoor, Pu. Cheud erb', 3)"
   ]
  }
 ],
 "metadata": {
  "kernelspec": {
   "display_name": "Python 3",
   "language": "python",
   "name": "python3"
  },
  "language_info": {
   "codemirror_mode": {
    "name": "ipython",
    "version": 3
   },
   "file_extension": ".py",
   "mimetype": "text/x-python",
   "name": "python",
   "nbconvert_exporter": "python",
   "pygments_lexer": "ipython3",
   "version": "3.8.5"
  }
 },
 "nbformat": 4,
 "nbformat_minor": 4
}
