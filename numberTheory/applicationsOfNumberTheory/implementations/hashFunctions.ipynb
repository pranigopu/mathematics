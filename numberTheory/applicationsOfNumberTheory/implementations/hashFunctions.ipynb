{
 "cells": [
  {
   "cell_type": "markdown",
   "metadata": {},
   "source": [
    "**Creating a basic hashing function...**"
   ]
  },
  {
   "cell_type": "code",
   "execution_count": 322,
   "metadata": {},
   "outputs": [],
   "source": [
    "hashTableSize = 100\n",
    "def integerToBucket(x):\n",
    "    tmp = x % hashTableSize\n",
    "    if tmp == 0: return x % (hashTableSize // 2 + 1)\n",
    "    return tmp\n",
    "def keyToInteger(x):\n",
    "    z = 0\n",
    "    # If x is an integer, apply 'integerToBucket' directly.\n",
    "    # Otherwise, carry on.\n",
    "    try: return int(x)\n",
    "    except: pass\n",
    "    # Calculating integer for given input\n",
    "    for i in x: z = z*ord(i) + ord(i)**2\n",
    "    return z\n",
    "\n",
    "# Main hashing function\n",
    "def h(x):\n",
    "    return integerToBucket(keyToInteger(x))"
   ]
  },
  {
   "cell_type": "code",
   "execution_count": 323,
   "metadata": {},
   "outputs": [
    {
     "name": "stdout",
     "output_type": "stream",
     "text": [
      "68\n",
      "4\n",
      "92\n"
     ]
    }
   ],
   "source": [
    "print(h(\"Hello, I am a gummy bear.\"))\n",
    "print(h(\"Hello world\"))\n",
    "print(h(\"I love democracy, I love the republic.\"))"
   ]
  },
  {
   "cell_type": "markdown",
   "metadata": {},
   "source": [
    "**Creating a basic hash map...**"
   ]
  },
  {
   "cell_type": "code",
   "execution_count": 354,
   "metadata": {},
   "outputs": [],
   "source": [
    "hashTableSize = 100\n",
    "def createHashMap(items):\n",
    "    # Every item must be a tuple, where the first value is the key.\n",
    "    hashMap = ['-']*hashTableSize\n",
    "    for item in items:\n",
    "        i = h(item[0])\n",
    "        # Checking if hashMap at index i is empty.\n",
    "        # If yes, insert freely (as a singleton list).\n",
    "        # If no, append the item in a list at that index.\n",
    "        if hashMap[i] == '-': hashMap[i] = [item[1]]\n",
    "        else: hashMap[i].append(item)\n",
    "    return hashMap"
   ]
  },
  {
   "cell_type": "markdown",
   "metadata": {},
   "source": [
    "Obtaining hash map..."
   ]
  },
  {
   "cell_type": "code",
   "execution_count": 352,
   "metadata": {},
   "outputs": [],
   "source": [
    "items = [\n",
    "    ('Pranav', 12),\n",
    "    (\"Vanaris\", 41),\n",
    "    (\"Coule\", 14),\n",
    "    (\"Mina\", 51),\n",
    "    (\"Heresh\", 59)]\n",
    "hashMap = createHashMap(items)"
   ]
  },
  {
   "cell_type": "markdown",
   "metadata": {},
   "source": [
    "Referencing..."
   ]
  },
  {
   "cell_type": "code",
   "execution_count": 353,
   "metadata": {},
   "outputs": [
    {
     "name": "stdout",
     "output_type": "stream",
     "text": [
      "[41]\n",
      "[14]\n",
      "[59]\n",
      "-\n"
     ]
    }
   ],
   "source": [
    "print(hashMap[h(\"Vanaris\")])\n",
    "print(hashMap[h(\"Coule\")])\n",
    "print(hashMap[h(\"Heresh\")])\n",
    "print(hashMap[h(\"Huang\")])"
   ]
  }
 ],
 "metadata": {
  "kernelspec": {
   "display_name": "Python 3",
   "language": "python",
   "name": "python3"
  },
  "language_info": {
   "codemirror_mode": {
    "name": "ipython",
    "version": 3
   },
   "file_extension": ".py",
   "mimetype": "text/x-python",
   "name": "python",
   "nbconvert_exporter": "python",
   "pygments_lexer": "ipython3",
   "version": "3.8.5"
  }
 },
 "nbformat": 4,
 "nbformat_minor": 4
}
